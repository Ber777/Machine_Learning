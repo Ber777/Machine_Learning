{
 "cells": [
  {
   "cell_type": "code",
   "execution_count": null,
   "metadata": {},
   "outputs": [
    {
     "name": "stderr",
     "output_type": "stream",
     "text": [
      "C:\\Users\\uivan_000\\Anaconda3\\lib\\site-packages\\tensorflow\\python\\framework\\dtypes.py:526: FutureWarning: Passing (type, 1) or '1type' as a synonym of type is deprecated; in a future version of numpy, it will be understood as (type, (1,)) / '(1,)type'.\n",
      "  _np_qint8 = np.dtype([(\"qint8\", np.int8, 1)])\n",
      "C:\\Users\\uivan_000\\Anaconda3\\lib\\site-packages\\tensorflow\\python\\framework\\dtypes.py:527: FutureWarning: Passing (type, 1) or '1type' as a synonym of type is deprecated; in a future version of numpy, it will be understood as (type, (1,)) / '(1,)type'.\n",
      "  _np_quint8 = np.dtype([(\"quint8\", np.uint8, 1)])\n",
      "C:\\Users\\uivan_000\\Anaconda3\\lib\\site-packages\\tensorflow\\python\\framework\\dtypes.py:528: FutureWarning: Passing (type, 1) or '1type' as a synonym of type is deprecated; in a future version of numpy, it will be understood as (type, (1,)) / '(1,)type'.\n",
      "  _np_qint16 = np.dtype([(\"qint16\", np.int16, 1)])\n",
      "C:\\Users\\uivan_000\\Anaconda3\\lib\\site-packages\\tensorflow\\python\\framework\\dtypes.py:529: FutureWarning: Passing (type, 1) or '1type' as a synonym of type is deprecated; in a future version of numpy, it will be understood as (type, (1,)) / '(1,)type'.\n",
      "  _np_quint16 = np.dtype([(\"quint16\", np.uint16, 1)])\n",
      "C:\\Users\\uivan_000\\Anaconda3\\lib\\site-packages\\tensorflow\\python\\framework\\dtypes.py:530: FutureWarning: Passing (type, 1) or '1type' as a synonym of type is deprecated; in a future version of numpy, it will be understood as (type, (1,)) / '(1,)type'.\n",
      "  _np_qint32 = np.dtype([(\"qint32\", np.int32, 1)])\n",
      "C:\\Users\\uivan_000\\Anaconda3\\lib\\site-packages\\tensorflow\\python\\framework\\dtypes.py:535: FutureWarning: Passing (type, 1) or '1type' as a synonym of type is deprecated; in a future version of numpy, it will be understood as (type, (1,)) / '(1,)type'.\n",
      "  np_resource = np.dtype([(\"resource\", np.ubyte, 1)])\n"
     ]
    }
   ],
   "source": [
    "import tensorflow as tf\n",
    "import numpy as np\n",
    "\n",
    "bandits = [] # Список наших бандитов\n",
    "k = 5 # кол-во бандитов\n",
    "for i in range(0, k):\n",
    "    i = np.random.randn(1)\n",
    "    bandits.append(i)\n",
    "print (bandits)\n",
    "num_bandits = len(bandits)\n",
    "def pullBandit(bandit):\n",
    "    result = np.random.randn(1) #Сгенерировать случайное число\n",
    "    if result > bandit:\n",
    "        return 1 #Выигрыш\n",
    "    else:\n",
    "        return -1 #Проигрыш"
   ]
  },
  {
   "cell_type": "code",
   "execution_count": 20,
   "metadata": {},
   "outputs": [],
   "source": [
    "tf.reset_default_graph()\n",
    "# Эти 2 строчки создают feed-forward часть нейросети. Здесь и происходит выбор действия.\n",
    "weights = tf.Variable(tf.ones([num_bandits]))\n",
    "chosen_action = tf.argmax(weights,0)\n",
    "\n",
    "# Следующие 6 строчек устанавливают процедуру обучения. Нейросеть принимает на вход действие и \n",
    "# его результат, чтобы оценить функцию потерь и обновить веса сети.\n",
    "reward_holder = tf.placeholder(shape=[1],dtype=tf.float32)\n",
    "action_holder = tf.placeholder(shape=[1],dtype=tf.int32)\n",
    "responsible_weight = tf.slice(weights,action_holder,[1])\n",
    "loss = -(tf.log(responsible_weight)*reward_holder)\n",
    "optimizer = tf.train.GradientDescentOptimizer(learning_rate=0.001)\n",
    "update = optimizer.minimize(loss)"
   ]
  },
  {
   "cell_type": "code",
   "execution_count": 21,
   "metadata": {},
   "outputs": [],
   "source": [
    "total_episodes = 1000 #Количество итераций обучения\n",
    "total_reward = np.zeros(num_bandits) \n",
    "e = 0.1 #Вероятность случайного выбора\n",
    "init = tf.global_variables_initializer()"
   ]
  },
  {
   "cell_type": "code",
   "execution_count": 22,
   "metadata": {},
   "outputs": [
    {
     "name": "stdout",
     "output_type": "stream",
     "text": [
      "Общий выигрыш сейчас равен 5 бандитов: [-1.  0.  0.  0.  0.]\n",
      "Общий выигрыш сейчас равен 5 бандитов: [-1. -2.  0. 31.  1.]\n",
      "Общий выигрыш сейчас равен 5 бандитов: [-1. -1.  1. 67.  1.]\n",
      "Общий выигрыш сейчас равен 5 бандитов: [  0.  -1.   1. 100.   1.]\n",
      "Общий выигрыш сейчас равен 5 бандитов: [  1.  -1.   0. 138.   1.]\n",
      "Общий выигрыш сейчас равен 5 бандитов: [  1.  -2.  -1. 173.   0.]\n",
      "Общий выигрыш сейчас равен 5 бандитов: [  1.  -3.  -2. 213.   0.]\n",
      "Общий выигрыш сейчас равен 5 бандитов: [  0.  -3.  -2. 249.  -1.]\n",
      "Общий выигрыш сейчас равен 5 бандитов: [  0.  -2.  -3. 284.   0.]\n",
      "Общий выигрыш сейчас равен 5 бандитов: [ -1.   0.  -3. 324.   1.]\n",
      "Общий выигрыш сейчас равен 5 бандитов: [  0.   1.  -3. 354.   1.]\n",
      "Общий выигрыш сейчас равен 5 бандитов: [  0.   1.  -2. 382.   0.]\n",
      "Общий выигрыш сейчас равен 5 бандитов: [  2.   1.  -4. 419.  -1.]\n",
      "Общий выигрыш сейчас равен 5 бандитов: [  2.   2.  -7. 459.  -1.]\n",
      "Общий выигрыш сейчас равен 5 бандитов: [  1.   2.  -7. 494.  -3.]\n",
      "Общий выигрыш сейчас равен 5 бандитов: [  1.   2.  -8. 523.  -3.]\n",
      "Общий выигрыш сейчас равен 5 бандитов: [  0.   2. -10. 551.  -4.]\n",
      "Общий выигрыш сейчас равен 5 бандитов: [  0.   4. -10. 589.  -4.]\n",
      "Общий выигрыш сейчас равен 5 бандитов: [ -1.   3. -10. 627.  -4.]\n",
      "Общий выигрыш сейчас равен 5 бандитов: [  0.   4. -11. 658.  -4.]\n",
      "Агент думает, что бандит №4 лучший\n"
     ]
    }
   ],
   "source": [
    "with tf.Session() as sess:\n",
    "    sess.run(init)\n",
    "    i = 0\n",
    "    while i < total_episodes:\n",
    "                \n",
    "        if np.random.rand(1) < e:\n",
    "            action = np.random.randint(num_bandits)\n",
    "        else:\n",
    "            action = sess.run(chosen_action)\n",
    "    \n",
    "        reward = pullBandit(bandits[action]) \n",
    "        \n",
    "        #Обновляем веса\n",
    "        _,resp,ww = sess.run([update,responsible_weight,weights], \n",
    "                      feed_dict={reward_holder:[reward],action_holder:[action]})\n",
    "        \n",
    "        #Обновляем общий выигрыш каждого бандита\n",
    "        total_reward[action] += reward\n",
    "        if i % 50 == 0:\n",
    "            print(\"Общий выигрыш сейчас равен \" + str(num_bandits) + \n",
    "            \" бандитов: \" + str(total_reward))\n",
    "        i+=1\n",
    "print(\"Агент думает, что бандит №\" + str(np.argmax(ww)+1) + \" лучший\")"
   ]
  },
  {
   "cell_type": "code",
   "execution_count": null,
   "metadata": {},
   "outputs": [],
   "source": []
  }
 ],
 "metadata": {
  "kernelspec": {
   "display_name": "Python 3",
   "language": "python",
   "name": "python3"
  },
  "language_info": {
   "codemirror_mode": {
    "name": "ipython",
    "version": 3
   },
   "file_extension": ".py",
   "mimetype": "text/x-python",
   "name": "python",
   "nbconvert_exporter": "python",
   "pygments_lexer": "ipython3",
   "version": "3.7.1"
  }
 },
 "nbformat": 4,
 "nbformat_minor": 2
}
